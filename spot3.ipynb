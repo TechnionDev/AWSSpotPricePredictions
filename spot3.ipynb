{
 "cells": [
  {
   "cell_type": "code",
   "execution_count": 1,
   "metadata": {
    "pycharm": {
     "name": "#%%\n"
    }
   },
   "outputs": [],
   "source": [
    "import numpy as np\n",
    "import pandas as pd\n",
    "import torch\n",
    "import pytorch_lightning as pl\n",
    "from pytorch_lightning.loggers import TensorBoardLogger\n",
    "from pytorch_lightning.callbacks import EarlyStopping, LearningRateMonitor\n",
    "# import dataset, network to train and metric to optimize\n",
    "from pytorch_forecasting import TimeSeriesDataSet, TemporalFusionTransformer, RecurrentNetwork, QuantileLoss\n",
    "from pytorch_forecasting.data.encoders import NaNLabelEncoder"
   ]
  },
  {
   "cell_type": "code",
   "execution_count": 2,
   "metadata": {},
   "outputs": [
    {
     "name": "stdout",
     "output_type": "stream",
     "text": [
      "Archive:  almost3_50plus.zip\n",
      "  inflating: almost_three_months.csv  \n"
     ]
    }
   ],
   "source": [
    "!rm almost_three_months.csv\n",
    "!unzip almost3_50plus.zip"
   ]
  },
  {
   "cell_type": "code",
   "execution_count": 3,
   "metadata": {
    "pycharm": {
     "name": "#%%\n"
    }
   },
   "outputs": [],
   "source": [
    "raw_data = pd.read_csv('almost_three_months.csv')"
   ]
  },
  {
   "cell_type": "code",
   "execution_count": 4,
   "metadata": {},
   "outputs": [
    {
     "data": {
      "text/html": [
       "<div>\n",
       "<style scoped>\n",
       "    .dataframe tbody tr th:only-of-type {\n",
       "        vertical-align: middle;\n",
       "    }\n",
       "\n",
       "    .dataframe tbody tr th {\n",
       "        vertical-align: top;\n",
       "    }\n",
       "\n",
       "    .dataframe thead th {\n",
       "        text-align: right;\n",
       "    }\n",
       "</style>\n",
       "<table border=\"1\" class=\"dataframe\">\n",
       "  <thead>\n",
       "    <tr style=\"text-align: right;\">\n",
       "      <th></th>\n",
       "      <th>Region</th>\n",
       "      <th>instanceType</th>\n",
       "      <th>major</th>\n",
       "      <th>minor</th>\n",
       "      <th>OS</th>\n",
       "      <th>Price</th>\n",
       "      <th>date</th>\n",
       "    </tr>\n",
       "  </thead>\n",
       "  <tbody>\n",
       "    <tr>\n",
       "      <th>0</th>\n",
       "      <td>eu-west-1c</td>\n",
       "      <td>t3.2xlarge</td>\n",
       "      <td>t3</td>\n",
       "      <td>2xlarge</td>\n",
       "      <td>Red Hat Enterprise Linux</td>\n",
       "      <td>0.2688</td>\n",
       "      <td>2021-12-26 16:40:00+00:00</td>\n",
       "    </tr>\n",
       "    <tr>\n",
       "      <th>1</th>\n",
       "      <td>eu-west-1c</td>\n",
       "      <td>t3.2xlarge</td>\n",
       "      <td>t3</td>\n",
       "      <td>2xlarge</td>\n",
       "      <td>Red Hat Enterprise Linux</td>\n",
       "      <td>0.2691</td>\n",
       "      <td>2021-12-26 11:20:00+00:00</td>\n",
       "    </tr>\n",
       "    <tr>\n",
       "      <th>2</th>\n",
       "      <td>eu-west-1c</td>\n",
       "      <td>t3.2xlarge</td>\n",
       "      <td>t3</td>\n",
       "      <td>2xlarge</td>\n",
       "      <td>Red Hat Enterprise Linux</td>\n",
       "      <td>0.2694</td>\n",
       "      <td>2021-12-26 04:30:00+00:00</td>\n",
       "    </tr>\n",
       "    <tr>\n",
       "      <th>3</th>\n",
       "      <td>eu-west-1c</td>\n",
       "      <td>t3.2xlarge</td>\n",
       "      <td>t3</td>\n",
       "      <td>2xlarge</td>\n",
       "      <td>Red Hat Enterprise Linux</td>\n",
       "      <td>0.2697</td>\n",
       "      <td>2021-12-25 22:30:00+00:00</td>\n",
       "    </tr>\n",
       "    <tr>\n",
       "      <th>4</th>\n",
       "      <td>eu-west-1c</td>\n",
       "      <td>t3.2xlarge</td>\n",
       "      <td>t3</td>\n",
       "      <td>2xlarge</td>\n",
       "      <td>Red Hat Enterprise Linux</td>\n",
       "      <td>0.2700</td>\n",
       "      <td>2021-12-25 16:20:00+00:00</td>\n",
       "    </tr>\n",
       "    <tr>\n",
       "      <th>...</th>\n",
       "      <td>...</td>\n",
       "      <td>...</td>\n",
       "      <td>...</td>\n",
       "      <td>...</td>\n",
       "      <td>...</td>\n",
       "      <td>...</td>\n",
       "      <td>...</td>\n",
       "    </tr>\n",
       "    <tr>\n",
       "      <th>2658534</th>\n",
       "      <td>ap-southeast-2a</td>\n",
       "      <td>r5d.xlarge</td>\n",
       "      <td>r5d</td>\n",
       "      <td>xlarge</td>\n",
       "      <td>Linux/UNIX</td>\n",
       "      <td>0.0775</td>\n",
       "      <td>2021-10-28 10:20:00+00:00</td>\n",
       "    </tr>\n",
       "    <tr>\n",
       "      <th>2658535</th>\n",
       "      <td>ap-southeast-2a</td>\n",
       "      <td>r5d.xlarge</td>\n",
       "      <td>r5d</td>\n",
       "      <td>xlarge</td>\n",
       "      <td>Linux/UNIX</td>\n",
       "      <td>0.0758</td>\n",
       "      <td>2021-12-23 21:20:00+00:00</td>\n",
       "    </tr>\n",
       "    <tr>\n",
       "      <th>2658536</th>\n",
       "      <td>ap-southeast-2a</td>\n",
       "      <td>r5d.xlarge</td>\n",
       "      <td>r5d</td>\n",
       "      <td>xlarge</td>\n",
       "      <td>Linux/UNIX</td>\n",
       "      <td>0.0776</td>\n",
       "      <td>2021-11-20 18:20:00+00:00</td>\n",
       "    </tr>\n",
       "    <tr>\n",
       "      <th>2658537</th>\n",
       "      <td>ap-southeast-2a</td>\n",
       "      <td>r5d.xlarge</td>\n",
       "      <td>r5d</td>\n",
       "      <td>xlarge</td>\n",
       "      <td>Linux/UNIX</td>\n",
       "      <td>0.0763</td>\n",
       "      <td>2021-11-09 19:20:00+00:00</td>\n",
       "    </tr>\n",
       "    <tr>\n",
       "      <th>2658538</th>\n",
       "      <td>ap-southeast-2a</td>\n",
       "      <td>r5d.xlarge</td>\n",
       "      <td>r5d</td>\n",
       "      <td>xlarge</td>\n",
       "      <td>Linux/UNIX</td>\n",
       "      <td>0.0769</td>\n",
       "      <td>2021-11-05 12:10:00+00:00</td>\n",
       "    </tr>\n",
       "  </tbody>\n",
       "</table>\n",
       "<p>2658539 rows × 7 columns</p>\n",
       "</div>"
      ],
      "text/plain": [
       "                  Region instanceType major    minor  \\\n",
       "0             eu-west-1c   t3.2xlarge    t3  2xlarge   \n",
       "1             eu-west-1c   t3.2xlarge    t3  2xlarge   \n",
       "2             eu-west-1c   t3.2xlarge    t3  2xlarge   \n",
       "3             eu-west-1c   t3.2xlarge    t3  2xlarge   \n",
       "4             eu-west-1c   t3.2xlarge    t3  2xlarge   \n",
       "...                  ...          ...   ...      ...   \n",
       "2658534  ap-southeast-2a   r5d.xlarge   r5d   xlarge   \n",
       "2658535  ap-southeast-2a   r5d.xlarge   r5d   xlarge   \n",
       "2658536  ap-southeast-2a   r5d.xlarge   r5d   xlarge   \n",
       "2658537  ap-southeast-2a   r5d.xlarge   r5d   xlarge   \n",
       "2658538  ap-southeast-2a   r5d.xlarge   r5d   xlarge   \n",
       "\n",
       "                               OS   Price                       date  \n",
       "0        Red Hat Enterprise Linux  0.2688  2021-12-26 16:40:00+00:00  \n",
       "1        Red Hat Enterprise Linux  0.2691  2021-12-26 11:20:00+00:00  \n",
       "2        Red Hat Enterprise Linux  0.2694  2021-12-26 04:30:00+00:00  \n",
       "3        Red Hat Enterprise Linux  0.2697  2021-12-25 22:30:00+00:00  \n",
       "4        Red Hat Enterprise Linux  0.2700  2021-12-25 16:20:00+00:00  \n",
       "...                           ...     ...                        ...  \n",
       "2658534                Linux/UNIX  0.0775  2021-10-28 10:20:00+00:00  \n",
       "2658535                Linux/UNIX  0.0758  2021-12-23 21:20:00+00:00  \n",
       "2658536                Linux/UNIX  0.0776  2021-11-20 18:20:00+00:00  \n",
       "2658537                Linux/UNIX  0.0763  2021-11-09 19:20:00+00:00  \n",
       "2658538                Linux/UNIX  0.0769  2021-11-05 12:10:00+00:00  \n",
       "\n",
       "[2658539 rows x 7 columns]"
      ]
     },
     "execution_count": 4,
     "metadata": {},
     "output_type": "execute_result"
    }
   ],
   "source": [
    "raw_data"
   ]
  },
  {
   "cell_type": "code",
   "execution_count": 6,
   "metadata": {
    "pycharm": {
     "name": "#%%\n"
    }
   },
   "outputs": [],
   "source": [
    "data = raw_data.astype({\n",
    "    'Region': 'category',\n",
    "    'instanceType': 'category',\n",
    "    'major': 'category',\n",
    "    'minor': 'category',\n",
    "    # 'Type': 'category',\n",
    "    'OS': 'category',\n",
    "    'date': 'datetime64'\n",
    "})\n",
    "\n",
    "# data = data[data.Region == 'ap-northeast-1a']\n",
    "# data = data[data.instanceType == 'r6g.2xlarge']\n",
    "# data = data[data.OS == 'Red Hat Enterprise Linux']\n",
    "\n",
    "# dates = {v: k for k, v in enumerate(data['date'].drop_duplicates().sort_values())}\n",
    "sorted_dates = data.date.sort_values()\n",
    "min_date = sorted_dates.min()\n",
    "max_date = sorted_dates.max()\n",
    "dates = {}\n",
    "current_date = min_date\n",
    "i = 0\n",
    "while current_date <= max_date:\n",
    "    dates[current_date] = i\n",
    "    i += 1\n",
    "    current_date += pd.Timedelta(minutes=10)\n",
    "\n",
    "data['time_idx'] = data['date'].apply(lambda x: dates[x])\n",
    "# data['Price'] = pd.to_numeric(raw_data['Price'], errors='coerce').fillna(-1)\n",
    "data['Price'] = pd.to_numeric(raw_data['Price'], errors='coerce')\n",
    "data = data.sort_values(['time_idx', 'Region', 'OS', 'instanceType'])"
   ]
  },
  {
   "cell_type": "code",
   "execution_count": 7,
   "metadata": {
    "collapsed": false,
    "jupyter": {
     "outputs_hidden": false
    },
    "pycharm": {
     "name": "#%%\n"
    }
   },
   "outputs": [
    {
     "data": {
      "text/html": [
       "<div>\n",
       "<style scoped>\n",
       "    .dataframe tbody tr th:only-of-type {\n",
       "        vertical-align: middle;\n",
       "    }\n",
       "\n",
       "    .dataframe tbody tr th {\n",
       "        vertical-align: top;\n",
       "    }\n",
       "\n",
       "    .dataframe thead th {\n",
       "        text-align: right;\n",
       "    }\n",
       "</style>\n",
       "<table border=\"1\" class=\"dataframe\">\n",
       "  <thead>\n",
       "    <tr style=\"text-align: right;\">\n",
       "      <th></th>\n",
       "      <th>Region</th>\n",
       "      <th>instanceType</th>\n",
       "      <th>major</th>\n",
       "      <th>minor</th>\n",
       "      <th>OS</th>\n",
       "      <th>Price</th>\n",
       "      <th>date</th>\n",
       "      <th>time_idx</th>\n",
       "    </tr>\n",
       "  </thead>\n",
       "  <tbody>\n",
       "    <tr>\n",
       "      <th>2043775</th>\n",
       "      <td>ca-central-1a</td>\n",
       "      <td>r5.xlarge</td>\n",
       "      <td>r5</td>\n",
       "      <td>xlarge</td>\n",
       "      <td>Linux/UNIX</td>\n",
       "      <td>0.0636</td>\n",
       "      <td>2021-10-26 17:20:00</td>\n",
       "      <td>0</td>\n",
       "    </tr>\n",
       "    <tr>\n",
       "      <th>2043381</th>\n",
       "      <td>ca-central-1a</td>\n",
       "      <td>r5.xlarge</td>\n",
       "      <td>r5</td>\n",
       "      <td>xlarge</td>\n",
       "      <td>Red Hat Enterprise Linux</td>\n",
       "      <td>0.1236</td>\n",
       "      <td>2021-10-26 17:20:00</td>\n",
       "      <td>0</td>\n",
       "    </tr>\n",
       "    <tr>\n",
       "      <th>2043578</th>\n",
       "      <td>ca-central-1a</td>\n",
       "      <td>r5.xlarge</td>\n",
       "      <td>r5</td>\n",
       "      <td>xlarge</td>\n",
       "      <td>SUSE Linux</td>\n",
       "      <td>0.1886</td>\n",
       "      <td>2021-10-26 17:20:00</td>\n",
       "      <td>0</td>\n",
       "    </tr>\n",
       "    <tr>\n",
       "      <th>730001</th>\n",
       "      <td>eu-north-1a</td>\n",
       "      <td>g4dn.metal</td>\n",
       "      <td>g4dn</td>\n",
       "      <td>metal</td>\n",
       "      <td>Linux/UNIX</td>\n",
       "      <td>2.4900</td>\n",
       "      <td>2021-10-26 17:20:00</td>\n",
       "      <td>0</td>\n",
       "    </tr>\n",
       "    <tr>\n",
       "      <th>729733</th>\n",
       "      <td>eu-north-1a</td>\n",
       "      <td>g4dn.metal</td>\n",
       "      <td>g4dn</td>\n",
       "      <td>metal</td>\n",
       "      <td>Red Hat Enterprise Linux</td>\n",
       "      <td>2.6200</td>\n",
       "      <td>2021-10-26 17:20:00</td>\n",
       "      <td>0</td>\n",
       "    </tr>\n",
       "    <tr>\n",
       "      <th>...</th>\n",
       "      <td>...</td>\n",
       "      <td>...</td>\n",
       "      <td>...</td>\n",
       "      <td>...</td>\n",
       "      <td>...</td>\n",
       "      <td>...</td>\n",
       "      <td>...</td>\n",
       "      <td>...</td>\n",
       "    </tr>\n",
       "    <tr>\n",
       "      <th>1873594</th>\n",
       "      <td>us-west-2d</td>\n",
       "      <td>r6g.4xlarge</td>\n",
       "      <td>r6g</td>\n",
       "      <td>4xlarge</td>\n",
       "      <td>Red Hat Enterprise Linux</td>\n",
       "      <td>0.5376</td>\n",
       "      <td>2021-12-03 00:00:00</td>\n",
       "      <td>5368</td>\n",
       "    </tr>\n",
       "    <tr>\n",
       "      <th>1887942</th>\n",
       "      <td>us-west-2d</td>\n",
       "      <td>c5.4xlarge</td>\n",
       "      <td>c5</td>\n",
       "      <td>4xlarge</td>\n",
       "      <td>SUSE Linux</td>\n",
       "      <td>0.3606</td>\n",
       "      <td>2021-12-03 00:00:00</td>\n",
       "      <td>5368</td>\n",
       "    </tr>\n",
       "    <tr>\n",
       "      <th>1870297</th>\n",
       "      <td>us-west-2d</td>\n",
       "      <td>m5.12xlarge</td>\n",
       "      <td>m5</td>\n",
       "      <td>12xlarge</td>\n",
       "      <td>SUSE Linux</td>\n",
       "      <td>1.1365</td>\n",
       "      <td>2021-12-03 00:00:00</td>\n",
       "      <td>5368</td>\n",
       "    </tr>\n",
       "    <tr>\n",
       "      <th>1885071</th>\n",
       "      <td>us-west-2d</td>\n",
       "      <td>r5d.4xlarge</td>\n",
       "      <td>r5d</td>\n",
       "      <td>4xlarge</td>\n",
       "      <td>SUSE Linux</td>\n",
       "      <td>1.0176</td>\n",
       "      <td>2021-12-03 00:00:00</td>\n",
       "      <td>5368</td>\n",
       "    </tr>\n",
       "    <tr>\n",
       "      <th>1873759</th>\n",
       "      <td>us-west-2d</td>\n",
       "      <td>r6g.4xlarge</td>\n",
       "      <td>r6g</td>\n",
       "      <td>4xlarge</td>\n",
       "      <td>SUSE Linux</td>\n",
       "      <td>0.5576</td>\n",
       "      <td>2021-12-03 00:00:00</td>\n",
       "      <td>5368</td>\n",
       "    </tr>\n",
       "  </tbody>\n",
       "</table>\n",
       "<p>1361632 rows × 8 columns</p>\n",
       "</div>"
      ],
      "text/plain": [
       "                Region instanceType major     minor                        OS  \\\n",
       "2043775  ca-central-1a    r5.xlarge    r5    xlarge                Linux/UNIX   \n",
       "2043381  ca-central-1a    r5.xlarge    r5    xlarge  Red Hat Enterprise Linux   \n",
       "2043578  ca-central-1a    r5.xlarge    r5    xlarge                SUSE Linux   \n",
       "730001     eu-north-1a   g4dn.metal  g4dn     metal                Linux/UNIX   \n",
       "729733     eu-north-1a   g4dn.metal  g4dn     metal  Red Hat Enterprise Linux   \n",
       "...                ...          ...   ...       ...                       ...   \n",
       "1873594     us-west-2d  r6g.4xlarge   r6g   4xlarge  Red Hat Enterprise Linux   \n",
       "1887942     us-west-2d   c5.4xlarge    c5   4xlarge                SUSE Linux   \n",
       "1870297     us-west-2d  m5.12xlarge    m5  12xlarge                SUSE Linux   \n",
       "1885071     us-west-2d  r5d.4xlarge   r5d   4xlarge                SUSE Linux   \n",
       "1873759     us-west-2d  r6g.4xlarge   r6g   4xlarge                SUSE Linux   \n",
       "\n",
       "          Price                date  time_idx  \n",
       "2043775  0.0636 2021-10-26 17:20:00         0  \n",
       "2043381  0.1236 2021-10-26 17:20:00         0  \n",
       "2043578  0.1886 2021-10-26 17:20:00         0  \n",
       "730001   2.4900 2021-10-26 17:20:00         0  \n",
       "729733   2.6200 2021-10-26 17:20:00         0  \n",
       "...         ...                 ...       ...  \n",
       "1873594  0.5376 2021-12-03 00:00:00      5368  \n",
       "1887942  0.3606 2021-12-03 00:00:00      5368  \n",
       "1870297  1.1365 2021-12-03 00:00:00      5368  \n",
       "1885071  1.0176 2021-12-03 00:00:00      5368  \n",
       "1873759  0.5576 2021-12-03 00:00:00      5368  \n",
       "\n",
       "[1361632 rows x 8 columns]"
      ]
     },
     "execution_count": 7,
     "metadata": {},
     "output_type": "execute_result"
    }
   ],
   "source": [
    "data[data['date'] <= '2021-12-03']"
   ]
  },
  {
   "cell_type": "code",
   "execution_count": 8,
   "metadata": {
    "pycharm": {
     "name": "#%%\n"
    }
   },
   "outputs": [],
   "source": [
    "# define the dataset, i.e. add metadata to pandas dataframe for the model to understand it\n",
    "max_encoder_length = 300\n",
    "max_prediction_length = 150\n",
    "training_cutoff = data[\"time_idx\"].max() - max_prediction_length\n",
    "\n",
    "training = TimeSeriesDataSet(\n",
    "    # data[data['date'] <= training_cutoff],#data[lambda x: x.date <= training_cutoff],\n",
    "    data[lambda x: x.time_idx <= training_cutoff],\n",
    "    time_idx='time_idx',  # column name of time of observation\n",
    "    target='Price',  # column name of target to predict\n",
    "    group_ids=['Region', 'OS', 'instanceType'],  # column name(s) for timeseries IDs\n",
    "    min_encoder_length=max_encoder_length // 2,  # keep encoder length long (as it is in the validation set)\n",
    "    max_encoder_length=max_encoder_length,  # how much history to use\n",
    "    min_prediction_length=1,\n",
    "    max_prediction_length=max_prediction_length,  # how far to predict into future\n",
    "    # covariates static for a timeseries ID\n",
    "    static_categoricals=['major', 'minor'],\n",
    "    # static_reals=[ ... ],\n",
    "    # covariates known and unknown in the future to inform prediction\n",
    "    time_varying_known_categoricals=[],\n",
    "    time_varying_unknown_categoricals=[],\n",
    "    time_varying_known_reals=['time_idx'],\n",
    "    time_varying_unknown_reals=['Price'],\n",
    "    # target_normalizer=NaNLabelEncoder(add_nan=True),\n",
    "    allow_missing_timesteps=True\n",
    ")"
   ]
  },
  {
   "cell_type": "code",
   "execution_count": 9,
   "metadata": {
    "collapsed": false,
    "jupyter": {
     "outputs_hidden": false
    },
    "pycharm": {
     "name": "#%%\n"
    }
   },
   "outputs": [
    {
     "name": "stderr",
     "output_type": "stream",
     "text": [
      "/home/liranringel/miniconda3/envs/butterfly/lib/python3.9/site-packages/pytorch_forecasting/data/timeseries.py:1238: UserWarning: Min encoder length and/or min_prediction_idx and/or min prediction length and/or lags are too large for 2685 series/groups which therefore are not present in the dataset index. This means no predictions can be made for those series. First 10 removed groups: [{'__group_id__Region': 'ap-northeast-1a', '__group_id__OS': 'Linux/UNIX', '__group_id__instanceType': 'c4.large'}, {'__group_id__Region': 'ap-northeast-1a', '__group_id__OS': 'Linux/UNIX', '__group_id__instanceType': 'c5.24xlarge'}, {'__group_id__Region': 'ap-northeast-1a', '__group_id__OS': 'Linux/UNIX', '__group_id__instanceType': 'c5a.16xlarge'}, {'__group_id__Region': 'ap-northeast-1a', '__group_id__OS': 'Linux/UNIX', '__group_id__instanceType': 'c5a.xlarge'}, {'__group_id__Region': 'ap-northeast-1a', '__group_id__OS': 'Linux/UNIX', '__group_id__instanceType': 'c6g.4xlarge'}, {'__group_id__Region': 'ap-northeast-1a', '__group_id__OS': 'Linux/UNIX', '__group_id__instanceType': 'g4ad.xlarge'}, {'__group_id__Region': 'ap-northeast-1a', '__group_id__OS': 'Linux/UNIX', '__group_id__instanceType': 'i3.2xlarge'}, {'__group_id__Region': 'ap-northeast-1a', '__group_id__OS': 'Linux/UNIX', '__group_id__instanceType': 'i3.4xlarge'}, {'__group_id__Region': 'ap-northeast-1a', '__group_id__OS': 'Linux/UNIX', '__group_id__instanceType': 'm4.16xlarge'}, {'__group_id__Region': 'ap-northeast-1a', '__group_id__OS': 'Linux/UNIX', '__group_id__instanceType': 'm5a.12xlarge'}]\n",
      "  warnings.warn(\n"
     ]
    }
   ],
   "source": [
    "# create validation dataset using the same normalization techniques as for the training dataset\n",
    "#validation = TimeSeriesDataSet.from_dataset(training, data, min_prediction_idx=training.index.time.max() + 1, stop_randomization=True)\n",
    "\n",
    "# create validation set (predict=True) which means to predict the last max_prediction_length points in time\n",
    "# for each series\n",
    "validation = TimeSeriesDataSet.from_dataset(training, data, predict=True, stop_randomization=True)\n",
    "\n",
    "# convert datasets to dataloaders for training\n",
    "batch_size = 128\n",
    "train_dataloader = training.to_dataloader(train=True, batch_size=batch_size, num_workers=2)\n",
    "val_dataloader = validation.to_dataloader(train=False, batch_size=batch_size, num_workers=2)"
   ]
  },
  {
   "cell_type": "code",
   "execution_count": 10,
   "metadata": {},
   "outputs": [
    {
     "data": {
      "text/plain": [
       "(3045212, 15085)"
      ]
     },
     "execution_count": 10,
     "metadata": {},
     "output_type": "execute_result"
    }
   ],
   "source": [
    "len(training), len(validation)"
   ]
  },
  {
   "cell_type": "code",
   "execution_count": 11,
   "metadata": {
    "collapsed": false,
    "jupyter": {
     "outputs_hidden": false
    },
    "pycharm": {
     "name": "#%%\n"
    }
   },
   "outputs": [
    {
     "name": "stderr",
     "output_type": "stream",
     "text": [
      "GPU available: True, used: True\n",
      "TPU available: False, using: 0 TPU cores\n",
      "IPU available: False, using: 0 IPUs\n"
     ]
    }
   ],
   "source": [
    "import warnings\n",
    "warnings.filterwarnings(\"ignore\")\n",
    "# create PyTorch Lighning Trainer with early stopping\n",
    "early_stop_callback = EarlyStopping(monitor=\"val_loss\", min_delta=1e-4, patience=1, verbose=False, mode=\"min\")\n",
    "lr_logger = LearningRateMonitor()\n",
    "trainer = pl.Trainer(\n",
    "    max_epochs=100,\n",
    "    gpus=1,  # run on CPU, if on multiple GPUs, use accelerator=\"ddp\"\n",
    "    gradient_clip_val=0.1,\n",
    "    limit_train_batches=30,  # 30 batches per epoch\n",
    "    callbacks=[lr_logger, early_stop_callback],\n",
    "    logger=TensorBoardLogger(\"lightning_logs\")\n",
    ")"
   ]
  },
  {
   "cell_type": "code",
   "execution_count": 12,
   "metadata": {
    "collapsed": false,
    "jupyter": {
     "outputs_hidden": false
    },
    "pycharm": {
     "name": "#%%\n"
    }
   },
   "outputs": [
    {
     "name": "stdout",
     "output_type": "stream",
     "text": [
      "Number of parameters in network: 63.7k\n"
     ]
    }
   ],
   "source": [
    "# define network to train - the architecture is mostly inferred from the dataset, so that only a few hyperparameters have to be set by the user\n",
    "tft = TemporalFusionTransformer.from_dataset(\n",
    "    # dataset\n",
    "    training,\n",
    "    # architecture hyperparameters\n",
    "    hidden_size=32,\n",
    "    attention_head_size=1,\n",
    "    dropout=0.1,\n",
    "    hidden_continuous_size=16,\n",
    "    # loss metric to optimize\n",
    "    loss=QuantileLoss(),\n",
    "    # logging frequency\n",
    "    log_interval=2,\n",
    "    # optimizer parameters\n",
    "    learning_rate=0.03,\n",
    "    reduce_on_plateau_patience=4\n",
    ")\n",
    "\n",
    "print(f\"Number of parameters in network: {tft.size()/1e3:.1f}k\")\n",
    "\n",
    "# # find the optimal learning rate\n",
    "# res = trainer.tuner.lr_find(\n",
    "#     tft, train_dataloaders=train_dataloader, val_dataloaders=val_dataloader, early_stop_threshold=1000.0, max_lr=0.3,\n",
    "# )"
   ]
  },
  {
   "cell_type": "code",
   "execution_count": 13,
   "metadata": {
    "collapsed": false,
    "jupyter": {
     "outputs_hidden": false
    },
    "pycharm": {
     "name": "#%%\n"
    }
   },
   "outputs": [],
   "source": [
    "# # and plot the result - always visually confirm that the suggested learning rate makes sense\n",
    "# print(f\"suggested learning rate: {res.suggestion()}\")\n",
    "# fig = res.plot(show=True, suggest=True)\n",
    "# fig.show()"
   ]
  },
  {
   "cell_type": "code",
   "execution_count": 14,
   "metadata": {
    "pycharm": {
     "name": "#%%\n"
    }
   },
   "outputs": [
    {
     "name": "stderr",
     "output_type": "stream",
     "text": [
      "LOCAL_RANK: 0 - CUDA_VISIBLE_DEVICES: [0]\n",
      "Set SLURM handle signals.\n",
      "\n",
      "   | Name                               | Type                            | Params\n",
      "----------------------------------------------------------------------------------------\n",
      "0  | loss                               | QuantileLoss                    | 0     \n",
      "1  | logging_metrics                    | ModuleList                      | 0     \n",
      "2  | input_embeddings                   | MultiEmbedding                  | 1.3 K \n",
      "3  | prescalers                         | ModuleDict                      | 96    \n",
      "4  | static_variable_selection          | VariableSelectionNetwork        | 2.2 K \n",
      "5  | encoder_variable_selection         | VariableSelectionNetwork        | 3.8 K \n",
      "6  | decoder_variable_selection         | VariableSelectionNetwork        | 1.8 K \n",
      "7  | static_context_variable_selection  | GatedResidualNetwork            | 4.3 K \n",
      "8  | static_context_initial_hidden_lstm | GatedResidualNetwork            | 4.3 K \n",
      "9  | static_context_initial_cell_lstm   | GatedResidualNetwork            | 4.3 K \n",
      "10 | static_context_enrichment          | GatedResidualNetwork            | 4.3 K \n",
      "11 | lstm_encoder                       | LSTM                            | 8.4 K \n",
      "12 | lstm_decoder                       | LSTM                            | 8.4 K \n",
      "13 | post_lstm_gate_encoder             | GatedLinearUnit                 | 2.1 K \n",
      "14 | post_lstm_add_norm_encoder         | AddNorm                         | 64    \n",
      "15 | static_enrichment                  | GatedResidualNetwork            | 5.3 K \n",
      "16 | multihead_attn                     | InterpretableMultiHeadAttention | 4.2 K \n",
      "17 | post_attn_gate_norm                | GateAddNorm                     | 2.2 K \n",
      "18 | pos_wise_ff                        | GatedResidualNetwork            | 4.3 K \n",
      "19 | pre_output_gate_norm               | GateAddNorm                     | 2.2 K \n",
      "20 | output_layer                       | Linear                          | 231   \n",
      "----------------------------------------------------------------------------------------\n",
      "63.7 K    Trainable params\n",
      "0         Non-trainable params\n",
      "63.7 K    Total params\n",
      "0.255     Total estimated model params size (MB)\n"
     ]
    },
    {
     "data": {
      "application/vnd.jupyter.widget-view+json": {
       "model_id": "",
       "version_major": 2,
       "version_minor": 0
      },
      "text/plain": [
       "Validation sanity check: 0it [00:00, ?it/s]"
      ]
     },
     "metadata": {},
     "output_type": "display_data"
    },
    {
     "data": {
      "application/vnd.jupyter.widget-view+json": {
       "model_id": "c585f819ac5d47ba8fabae714da9c326",
       "version_major": 2,
       "version_minor": 0
      },
      "text/plain": [
       "Training: 0it [00:00, ?it/s]"
      ]
     },
     "metadata": {},
     "output_type": "display_data"
    },
    {
     "data": {
      "application/vnd.jupyter.widget-view+json": {
       "model_id": "",
       "version_major": 2,
       "version_minor": 0
      },
      "text/plain": [
       "Validating: 0it [00:00, ?it/s]"
      ]
     },
     "metadata": {},
     "output_type": "display_data"
    },
    {
     "data": {
      "application/vnd.jupyter.widget-view+json": {
       "model_id": "",
       "version_major": 2,
       "version_minor": 0
      },
      "text/plain": [
       "Validating: 0it [00:00, ?it/s]"
      ]
     },
     "metadata": {},
     "output_type": "display_data"
    },
    {
     "data": {
      "application/vnd.jupyter.widget-view+json": {
       "model_id": "",
       "version_major": 2,
       "version_minor": 0
      },
      "text/plain": [
       "Validating: 0it [00:00, ?it/s]"
      ]
     },
     "metadata": {},
     "output_type": "display_data"
    },
    {
     "data": {
      "application/vnd.jupyter.widget-view+json": {
       "model_id": "",
       "version_major": 2,
       "version_minor": 0
      },
      "text/plain": [
       "Validating: 0it [00:00, ?it/s]"
      ]
     },
     "metadata": {},
     "output_type": "display_data"
    },
    {
     "data": {
      "application/vnd.jupyter.widget-view+json": {
       "model_id": "",
       "version_major": 2,
       "version_minor": 0
      },
      "text/plain": [
       "Validating: 0it [00:00, ?it/s]"
      ]
     },
     "metadata": {},
     "output_type": "display_data"
    }
   ],
   "source": [
    "# fit the model on the data - redefine the model with the correct learning rate if necessary\n",
    "trainer.fit(\n",
    "    tft, train_dataloaders=train_dataloader, val_dataloaders=val_dataloader,\n",
    ")"
   ]
  },
  {
   "cell_type": "code",
   "execution_count": 15,
   "metadata": {},
   "outputs": [
    {
     "name": "stderr",
     "output_type": "stream",
     "text": [
      "LOCAL_RANK: 0 - CUDA_VISIBLE_DEVICES: [0]\n"
     ]
    },
    {
     "data": {
      "application/vnd.jupyter.widget-view+json": {
       "model_id": "",
       "version_major": 2,
       "version_minor": 0
      },
      "text/plain": [
       "Validating: 0it [00:00, ?it/s]"
      ]
     },
     "metadata": {},
     "output_type": "display_data"
    },
    {
     "name": "stdout",
     "output_type": "stream",
     "text": [
      "--------------------------------------------------------------------------------\n",
      "DATALOADER:0 VALIDATE RESULTS\n",
      "{'val_MAE': 0.01922227442264557,\n",
      " 'val_MAPE': 0.015747494995594025,\n",
      " 'val_RMSE': 0.07389326393604279,\n",
      " 'val_SMAPE': 0.01550079695880413,\n",
      " 'val_loss': 0.004534061532467604}\n",
      "--------------------------------------------------------------------------------\n"
     ]
    },
    {
     "data": {
      "text/plain": [
       "[{'val_loss': 0.004534061532467604,\n",
       "  'val_SMAPE': 0.01550079695880413,\n",
       "  'val_MAE': 0.01922227442264557,\n",
       "  'val_RMSE': 0.07389326393604279,\n",
       "  'val_MAPE': 0.015747494995594025}]"
      ]
     },
     "execution_count": 15,
     "metadata": {},
     "output_type": "execute_result"
    }
   ],
   "source": [
    "trainer.validate(tft, val_dataloaders=val_dataloader)"
   ]
  },
  {
   "cell_type": "code",
   "execution_count": 16,
   "metadata": {},
   "outputs": [],
   "source": [
    "# load the best model according to the validation loss\n",
    "# (given that we use early stopping, this is not necessarily the last epoch)\n",
    "best_model_path = trainer.checkpoint_callback.best_model_path\n",
    "best_tft = TemporalFusionTransformer.load_from_checkpoint(best_model_path)"
   ]
  },
  {
   "cell_type": "code",
   "execution_count": 17,
   "metadata": {},
   "outputs": [
    {
     "name": "stdout",
     "output_type": "stream",
     "text": [
      "our_prediction_mae=0.01922227069735527\n",
      "baseline_prediction_mae=0.00724204583093524\n"
     ]
    }
   ],
   "source": [
    "from pytorch_forecasting import Baseline\n",
    "\n",
    "actuals = torch.cat([y[0] for x, y in iter(val_dataloader)])\n",
    "predictions = best_tft.predict(val_dataloader)\n",
    "our_prediction_mae = (actuals - predictions).abs().mean()\n",
    "print(f'our_prediction_mae={our_prediction_mae}')\n",
    "\n",
    "baseline_predictions = Baseline().predict(val_dataloader)\n",
    "baseline_prediction_mae = (actuals - baseline_predictions).abs().mean().item()\n",
    "print(f'baseline_prediction_mae={baseline_prediction_mae}')"
   ]
  },
  {
   "cell_type": "code",
   "execution_count": 18,
   "metadata": {},
   "outputs": [
    {
     "data": {
      "text/plain": [
       "(23790, 118)"
      ]
     },
     "execution_count": 18,
     "metadata": {},
     "output_type": "execute_result"
    }
   ],
   "source": [
    "len(train_dataloader), len(val_dataloader)"
   ]
  },
  {
   "cell_type": "code",
   "execution_count": null,
   "metadata": {},
   "outputs": [],
   "source": []
  }
 ],
 "metadata": {
  "kernelspec": {
   "display_name": "Python 3 (ipykernel)",
   "language": "python",
   "name": "python3"
  },
  "language_info": {
   "codemirror_mode": {
    "name": "ipython",
    "version": 3
   },
   "file_extension": ".py",
   "mimetype": "text/x-python",
   "name": "python",
   "nbconvert_exporter": "python",
   "pygments_lexer": "ipython3",
   "version": "3.9.7"
  }
 },
 "nbformat": 4,
 "nbformat_minor": 4
}
